{
 "cells": [
  {
   "cell_type": "code",
   "execution_count": 1,
   "metadata": {
    "id": "9c_6IDa9Q1AW"
   },
   "outputs": [],
   "source": [
    "import pandas as pd\n",
    "review_df=pd.read_csv('C:/Users/vishe/OneDrive/Desktop/Mini_project_final_review/CellPhonesRating.csv')"
   ]
  },
  {
   "cell_type": "code",
   "execution_count": 2,
   "metadata": {
    "id": "tKqQJ6OE66VD"
   },
   "outputs": [],
   "source": [
    "import pickle\n",
    "class Lemma4U:\n",
    "    def __init__(self):\n",
    "        self.final_corpus = {}\n",
    "        with open(\"C:/Users/vishe/OneDrive/Desktop/Mini_project_final_review/Custom_Lemmatizer/final.pkl\", 'rb') as f:\n",
    "            self.final_corpus.update(pickle.load(f))\n",
    "\n",
    "    def penn_to_ud(self,tag):\n",
    "        \"\"\"Converting the tags of Penn Tree bank to universal UD tags.\"\"\"\n",
    "\n",
    "        if tag in [\"NN\", \"NNS\"]:\n",
    "            return \"NOUN\"\n",
    "        elif tag in [\"NNP\", \"NNPS\"]:\n",
    "            return \"PROPN\"\n",
    "        elif \"JJ\" in tag or tag == \"AFX\":\n",
    "            return \"ADJ\"\n",
    "        elif tag in [\"#\", \"$\", \"SYM\"]:\n",
    "            return \"SYM\"\n",
    "        elif tag in \"\\\",-LRB--RRB-.:\\'\\'\" or tag == \"HYPH\":\n",
    "            return \"PUNCT\"\n",
    "        elif tag == \"CC\":\n",
    "            return \"CCONJ\"\n",
    "        elif tag == \"CD\":\n",
    "            return \"NUM\"\n",
    "        elif tag in [\"EX\", \"PRP\", \"WP\"]:\n",
    "            return \"PRON\"\n",
    "        elif tag in [\"FW\", \"LS\", \"NIL\"]:\n",
    "            return \"X\"\n",
    "        elif tag in [\"IN\", \"RP\"]:\n",
    "            return \"ADP\"\n",
    "        elif tag in [\"DT\", \"PDT\", \"PRP$\", \"WDT\", \"WP$\"]:\n",
    "            return \"DET\"\n",
    "        elif tag in [\"POS\", \"TO\"]:\n",
    "            return \"PART\"\n",
    "        elif \"RB\" in tag or tag == \"WBR\":\n",
    "            return \"ADV\"\n",
    "        elif tag == \"UH\":\n",
    "            return \"INTJ\"\n",
    "        elif \"VB\" in tag or tag == \"MD\":\n",
    "            return \"VERB\"\n",
    "        else:\n",
    "            return \"X\"\n",
    "\n",
    "    def lemmatize(self, word, pos):\n",
    "\n",
    "        if word in self.final_corpus:\n",
    "            if pos in self.final_corpus[word]:\n",
    "                return self.final_corpus[word][pos]\n",
    "        return word\n",
    "\n",
    "\n",
    "    def plu_to_sing(self,word):\n",
    "        vowels = \"aeiou\"\n",
    "        consonants = \"bcdfghjklmnpqrstwxyz\"\n",
    "        word = str(word).lower()\n",
    "        if len(word) < 2:\n",
    "            return word\n",
    "        if word[-1] == \"s\":\n",
    "            if len(word) > 3:\n",
    "                if word[-3:] == \"ves\":\n",
    "                    return word.replace('ves', 'f')\n",
    "                if word[-3:] == \"ies\":\n",
    "                    return word.replace(\"ies\", 'y')\n",
    "                if word[-2:] == \"es\":\n",
    "                    if word[-3:] == \"ses\" and word[-4] in vowels:\n",
    "                        return word[:-1]\n",
    "                    if word[-4:] == \"zzes\":\n",
    "                        return word.replace('zzes', 'z')\n",
    "                    return word[:-2]\n",
    "                if word[-2:] == \"ys\":\n",
    "                    return word.replace('ys', 'y')\n",
    "                return word[:-1]\n",
    "        return word\n"
   ]
  },
  {
   "cell_type": "code",
   "execution_count": 3,
   "metadata": {
    "id": "bC-v_X5U6_nD"
   },
   "outputs": [],
   "source": [
    "obj=Lemma4U()"
   ]
  },
  {
   "cell_type": "code",
   "execution_count": 4,
   "metadata": {
    "colab": {
     "base_uri": "https://localhost:8080/",
     "height": 36
    },
    "id": "VY5jtVEg7B_H",
    "outputId": "9929a6da-5dca-46d7-cd0b-b066b003c6a4"
   },
   "outputs": [
    {
     "data": {
      "text/plain": [
       "'NOUN'"
      ]
     },
     "execution_count": 4,
     "metadata": {},
     "output_type": "execute_result"
    }
   ],
   "source": [
    "obj.penn_to_ud(\"NNS\")"
   ]
  },
  {
   "cell_type": "code",
   "execution_count": 5,
   "metadata": {
    "colab": {
     "base_uri": "https://localhost:8080/",
     "height": 36
    },
    "id": "6zl4Q6S27GlM",
    "outputId": "5acfb450-57ac-4a25-cb25-75367e562652"
   },
   "outputs": [
    {
     "data": {
      "text/plain": [
       "'gun'"
      ]
     },
     "execution_count": 5,
     "metadata": {},
     "output_type": "execute_result"
    }
   ],
   "source": [
    "obj.plu_to_sing(\"guns\")"
   ]
  },
  {
   "cell_type": "code",
   "execution_count": 6,
   "metadata": {
    "colab": {
     "base_uri": "https://localhost:8080/",
     "height": 36
    },
    "id": "FRQ4KsvA7MP3",
    "outputId": "7c5a1487-bda8-47ed-9031-33301e3546c8"
   },
   "outputs": [
    {
     "data": {
      "text/plain": [
       "'eat'"
      ]
     },
     "execution_count": 6,
     "metadata": {},
     "output_type": "execute_result"
    }
   ],
   "source": [
    "obj.lemmatize(\"ate\",\"VERB\")"
   ]
  },
  {
   "cell_type": "code",
   "execution_count": 7,
   "metadata": {
    "id": "X9O3TjtEtlW7"
   },
   "outputs": [],
   "source": [
    "review_df.insert(0,\"SR\",range(0,len(review_df)))"
   ]
  },
  {
   "cell_type": "code",
   "execution_count": 8,
   "metadata": {
    "colab": {
     "base_uri": "https://localhost:8080/",
     "height": 493
    },
    "id": "Hc2k0Nfqwqfj",
    "outputId": "63f634d0-c25d-4c5f-93e7-914d7dc95a9f"
   },
   "outputs": [
    {
     "data": {
      "text/html": [
       "<div>\n",
       "<style scoped>\n",
       "    .dataframe tbody tr th:only-of-type {\n",
       "        vertical-align: middle;\n",
       "    }\n",
       "\n",
       "    .dataframe tbody tr th {\n",
       "        vertical-align: top;\n",
       "    }\n",
       "\n",
       "    .dataframe thead th {\n",
       "        text-align: right;\n",
       "    }\n",
       "</style>\n",
       "<table border=\"1\" class=\"dataframe\">\n",
       "  <thead>\n",
       "    <tr style=\"text-align: right;\">\n",
       "      <th></th>\n",
       "      <th>SR</th>\n",
       "      <th>Unnamed: 0</th>\n",
       "      <th>rating</th>\n",
       "      <th>verified</th>\n",
       "      <th>reviewTime</th>\n",
       "      <th>reviewerID</th>\n",
       "      <th>productID</th>\n",
       "      <th>reviewText</th>\n",
       "      <th>summary</th>\n",
       "      <th>unixReviewTime</th>\n",
       "    </tr>\n",
       "  </thead>\n",
       "  <tbody>\n",
       "    <tr>\n",
       "      <th>0</th>\n",
       "      <td>0</td>\n",
       "      <td>0</td>\n",
       "      <td>5.0</td>\n",
       "      <td>True</td>\n",
       "      <td>08 4, 2014</td>\n",
       "      <td>A24E3SXTC62LJI</td>\n",
       "      <td>7508492919</td>\n",
       "      <td>Looks even better in person. Be careful to not...</td>\n",
       "      <td>Can't stop won't stop looking at it</td>\n",
       "      <td>1407110400</td>\n",
       "    </tr>\n",
       "    <tr>\n",
       "      <th>1</th>\n",
       "      <td>1</td>\n",
       "      <td>1</td>\n",
       "      <td>5.0</td>\n",
       "      <td>True</td>\n",
       "      <td>02 12, 2014</td>\n",
       "      <td>A269FLZCB4GIPV</td>\n",
       "      <td>7508492919</td>\n",
       "      <td>When you don't want to spend a whole lot of ca...</td>\n",
       "      <td>1</td>\n",
       "      <td>1392163200</td>\n",
       "    </tr>\n",
       "    <tr>\n",
       "      <th>2</th>\n",
       "      <td>2</td>\n",
       "      <td>2</td>\n",
       "      <td>3.0</td>\n",
       "      <td>True</td>\n",
       "      <td>02 8, 2014</td>\n",
       "      <td>AB6CHQWHZW4TV</td>\n",
       "      <td>7508492919</td>\n",
       "      <td>so the case came on time, i love the design. I...</td>\n",
       "      <td>Its okay</td>\n",
       "      <td>1391817600</td>\n",
       "    </tr>\n",
       "    <tr>\n",
       "      <th>3</th>\n",
       "      <td>3</td>\n",
       "      <td>3</td>\n",
       "      <td>2.0</td>\n",
       "      <td>True</td>\n",
       "      <td>02 4, 2014</td>\n",
       "      <td>A1M117A53LEI8</td>\n",
       "      <td>7508492919</td>\n",
       "      <td>DON'T CARE FOR IT.  GAVE IT AS A GIFT AND THEY...</td>\n",
       "      <td>CASE</td>\n",
       "      <td>1391472000</td>\n",
       "    </tr>\n",
       "    <tr>\n",
       "      <th>4</th>\n",
       "      <td>4</td>\n",
       "      <td>4</td>\n",
       "      <td>4.0</td>\n",
       "      <td>True</td>\n",
       "      <td>02 3, 2014</td>\n",
       "      <td>A272DUT8M88ZS8</td>\n",
       "      <td>7508492919</td>\n",
       "      <td>I liked it because it was cute, but the studs ...</td>\n",
       "      <td>Cute!</td>\n",
       "      <td>1391385600</td>\n",
       "    </tr>\n",
       "    <tr>\n",
       "      <th>...</th>\n",
       "      <td>...</td>\n",
       "      <td>...</td>\n",
       "      <td>...</td>\n",
       "      <td>...</td>\n",
       "      <td>...</td>\n",
       "      <td>...</td>\n",
       "      <td>...</td>\n",
       "      <td>...</td>\n",
       "      <td>...</td>\n",
       "      <td>...</td>\n",
       "    </tr>\n",
       "    <tr>\n",
       "      <th>938256</th>\n",
       "      <td>938256</td>\n",
       "      <td>1128431</td>\n",
       "      <td>3.0</td>\n",
       "      <td>True</td>\n",
       "      <td>01 2, 2017</td>\n",
       "      <td>A67N8PO0ZMYC5</td>\n",
       "      <td>B01HJC7N4C</td>\n",
       "      <td>my sons likes it. For the price it isn't too bad</td>\n",
       "      <td>Three Stars</td>\n",
       "      <td>1483315200</td>\n",
       "    </tr>\n",
       "    <tr>\n",
       "      <th>938257</th>\n",
       "      <td>938257</td>\n",
       "      <td>1128432</td>\n",
       "      <td>4.0</td>\n",
       "      <td>True</td>\n",
       "      <td>12 22, 2016</td>\n",
       "      <td>A1QWMCG1FNEP3A</td>\n",
       "      <td>B01HJC7N4C</td>\n",
       "      <td>Good for viewing. But doesn't have a button or...</td>\n",
       "      <td>Good</td>\n",
       "      <td>1482364800</td>\n",
       "    </tr>\n",
       "    <tr>\n",
       "      <th>938258</th>\n",
       "      <td>938258</td>\n",
       "      <td>1128433</td>\n",
       "      <td>5.0</td>\n",
       "      <td>False</td>\n",
       "      <td>07 15, 2016</td>\n",
       "      <td>A3FOBEJ9UVUTR3</td>\n",
       "      <td>B01HJC7N4C</td>\n",
       "      <td>I was given the Rockrok 3D VR Glasses Headset ...</td>\n",
       "      <td>THE FUTURE IS NOW!!!!!!!</td>\n",
       "      <td>1468540800</td>\n",
       "    </tr>\n",
       "    <tr>\n",
       "      <th>938259</th>\n",
       "      <td>938259</td>\n",
       "      <td>1128434</td>\n",
       "      <td>5.0</td>\n",
       "      <td>False</td>\n",
       "      <td>07 14, 2016</td>\n",
       "      <td>AMUEAMKB4E33M</td>\n",
       "      <td>B01HJC7N4C</td>\n",
       "      <td>Super Fun! The RockRoc 3d vr headset is waaaay...</td>\n",
       "      <td>Get more out of your smartphone .......</td>\n",
       "      <td>1468454400</td>\n",
       "    </tr>\n",
       "    <tr>\n",
       "      <th>938260</th>\n",
       "      <td>938260</td>\n",
       "      <td>1128435</td>\n",
       "      <td>5.0</td>\n",
       "      <td>False</td>\n",
       "      <td>07 13, 2016</td>\n",
       "      <td>A2EV91MMOJ3IL4</td>\n",
       "      <td>B01HJC7N4C</td>\n",
       "      <td>Love it!\\n\\nI've had other VR glasses which al...</td>\n",
       "      <td>Join the VR fun train!</td>\n",
       "      <td>1468368000</td>\n",
       "    </tr>\n",
       "  </tbody>\n",
       "</table>\n",
       "<p>938261 rows × 10 columns</p>\n",
       "</div>"
      ],
      "text/plain": [
       "            SR  Unnamed: 0  rating  verified   reviewTime      reviewerID  \\\n",
       "0            0           0     5.0      True   08 4, 2014  A24E3SXTC62LJI   \n",
       "1            1           1     5.0      True  02 12, 2014  A269FLZCB4GIPV   \n",
       "2            2           2     3.0      True   02 8, 2014   AB6CHQWHZW4TV   \n",
       "3            3           3     2.0      True   02 4, 2014   A1M117A53LEI8   \n",
       "4            4           4     4.0      True   02 3, 2014  A272DUT8M88ZS8   \n",
       "...        ...         ...     ...       ...          ...             ...   \n",
       "938256  938256     1128431     3.0      True   01 2, 2017   A67N8PO0ZMYC5   \n",
       "938257  938257     1128432     4.0      True  12 22, 2016  A1QWMCG1FNEP3A   \n",
       "938258  938258     1128433     5.0     False  07 15, 2016  A3FOBEJ9UVUTR3   \n",
       "938259  938259     1128434     5.0     False  07 14, 2016   AMUEAMKB4E33M   \n",
       "938260  938260     1128435     5.0     False  07 13, 2016  A2EV91MMOJ3IL4   \n",
       "\n",
       "         productID                                         reviewText  \\\n",
       "0       7508492919  Looks even better in person. Be careful to not...   \n",
       "1       7508492919  When you don't want to spend a whole lot of ca...   \n",
       "2       7508492919  so the case came on time, i love the design. I...   \n",
       "3       7508492919  DON'T CARE FOR IT.  GAVE IT AS A GIFT AND THEY...   \n",
       "4       7508492919  I liked it because it was cute, but the studs ...   \n",
       "...            ...                                                ...   \n",
       "938256  B01HJC7N4C   my sons likes it. For the price it isn't too bad   \n",
       "938257  B01HJC7N4C  Good for viewing. But doesn't have a button or...   \n",
       "938258  B01HJC7N4C  I was given the Rockrok 3D VR Glasses Headset ...   \n",
       "938259  B01HJC7N4C  Super Fun! The RockRoc 3d vr headset is waaaay...   \n",
       "938260  B01HJC7N4C  Love it!\\n\\nI've had other VR glasses which al...   \n",
       "\n",
       "                                        summary  unixReviewTime  \n",
       "0           Can't stop won't stop looking at it      1407110400  \n",
       "1                                             1      1392163200  \n",
       "2                                      Its okay      1391817600  \n",
       "3                                          CASE      1391472000  \n",
       "4                                         Cute!      1391385600  \n",
       "...                                         ...             ...  \n",
       "938256                              Three Stars      1483315200  \n",
       "938257                                     Good      1482364800  \n",
       "938258                 THE FUTURE IS NOW!!!!!!!      1468540800  \n",
       "938259  Get more out of your smartphone .......      1468454400  \n",
       "938260                   Join the VR fun train!      1468368000  \n",
       "\n",
       "[938261 rows x 10 columns]"
      ]
     },
     "execution_count": 8,
     "metadata": {},
     "output_type": "execute_result"
    }
   ],
   "source": [
    "review_df"
   ]
  },
  {
   "cell_type": "code",
   "execution_count": 9,
   "metadata": {
    "id": "NAAQWewY3u7B"
   },
   "outputs": [],
   "source": [
    "li=list()\n",
    "for i in review_df[\"SR\"]:\n",
    "    sentance=review_df[\"reviewText\"][i]\n",
    "    if type(sentance) is str:\n",
    "        words=sentance.split()\n",
    "        if len(words) > 5:\n",
    "            if len(words) < 100:\n",
    "                if review_df[\"rating\"][i]>3:\n",
    "                    li.append((words,\"pos\"))\n",
    "                else:\n",
    "                    li.append((words,\"neg\"))"
   ]
  },
  {
   "cell_type": "code",
   "execution_count": 10,
   "metadata": {
    "colab": {
     "base_uri": "https://localhost:8080/"
    },
    "id": "ep61SfX738y1",
    "outputId": "724950d8-0e9e-44ab-d980-df6265af30c4"
   },
   "outputs": [
    {
     "data": {
      "text/plain": [
       "(705105,\n",
       " ['When',\n",
       "  'you',\n",
       "  \"don't\",\n",
       "  'want',\n",
       "  'to',\n",
       "  'spend',\n",
       "  'a',\n",
       "  'whole',\n",
       "  'lot',\n",
       "  'of',\n",
       "  'cash',\n",
       "  'but',\n",
       "  'want',\n",
       "  'a',\n",
       "  'great',\n",
       "  'deal...this',\n",
       "  'is',\n",
       "  'the',\n",
       "  'shop',\n",
       "  'to',\n",
       "  'buy',\n",
       "  'from!'])"
      ]
     },
     "execution_count": 10,
     "metadata": {},
     "output_type": "execute_result"
    }
   ],
   "source": [
    "len(li),li[1][0]"
   ]
  },
  {
   "cell_type": "code",
   "execution_count": 11,
   "metadata": {
    "id": "zHVac7NLxzdq"
   },
   "outputs": [],
   "source": [
    "import random\n",
    "random.shuffle(li)"
   ]
  },
  {
   "cell_type": "code",
   "execution_count": 12,
   "metadata": {
    "id": "H9OlzWQ1tAxv"
   },
   "outputs": [],
   "source": [
    "len(li),li[1][0]\n",
    "pd.options.display.max_rows = 10000"
   ]
  },
  {
   "cell_type": "code",
   "execution_count": 13,
   "metadata": {
    "colab": {
     "base_uri": "https://localhost:8080/"
    },
    "id": "86lxjzSCo3vv",
    "outputId": "2566f283-7927-41d0-da5a-c1ab138750b7"
   },
   "outputs": [
    {
     "data": {
      "text/plain": [
       "(705105,\n",
       " (['I',\n",
       "   'really',\n",
       "   'wanted',\n",
       "   'to',\n",
       "   'like',\n",
       "   'this',\n",
       "   'product.',\n",
       "   'The',\n",
       "   'price',\n",
       "   'is',\n",
       "   'great',\n",
       "   'and',\n",
       "   'the',\n",
       "   'item',\n",
       "   'adds',\n",
       "   'virtually',\n",
       "   'no',\n",
       "   'bulk',\n",
       "   'to',\n",
       "   'the',\n",
       "   'iphone',\n",
       "   'while',\n",
       "   'at',\n",
       "   'the',\n",
       "   'same',\n",
       "   'time',\n",
       "   'protecting',\n",
       "   'it.',\n",
       "   'The',\n",
       "   'biggest',\n",
       "   'flaws',\n",
       "   'revealed',\n",
       "   'themselves',\n",
       "   'shortly',\n",
       "   'after',\n",
       "   'installing',\n",
       "   'the',\n",
       "   'product.',\n",
       "   'The',\n",
       "   'TPU',\n",
       "   'tends',\n",
       "   'to',\n",
       "   'bend',\n",
       "   'the',\n",
       "   'screen',\n",
       "   'protector',\n",
       "   'out',\n",
       "   'of',\n",
       "   'position,',\n",
       "   'if',\n",
       "   'you',\n",
       "   'have',\n",
       "   'an',\n",
       "   'expensive',\n",
       "   'screen',\n",
       "   'protector',\n",
       "   'this',\n",
       "   'will',\n",
       "   'pose',\n",
       "   'a',\n",
       "   'problem.',\n",
       "   'The',\n",
       "   'second',\n",
       "   'issue',\n",
       "   'is',\n",
       "   'that',\n",
       "   'the',\n",
       "   'ear',\n",
       "   'phone',\n",
       "   'port',\n",
       "   'will',\n",
       "   'not',\n",
       "   'accomodate',\n",
       "   'radio',\n",
       "   'auxillary',\n",
       "   'cords',\n",
       "   'since',\n",
       "   'the',\n",
       "   'cut',\n",
       "   'out',\n",
       "   'is',\n",
       "   'way',\n",
       "   'too',\n",
       "   'small.'],\n",
       "  'neg'),\n",
       " 705105,\n",
       " 84)"
      ]
     },
     "execution_count": 13,
     "metadata": {},
     "output_type": "execute_result"
    }
   ],
   "source": [
    "y=list()\n",
    "for x in li:\n",
    "    y.append(len(x[0]))\n",
    "len(li),li[1],len(y),y[1]"
   ]
  },
  {
   "cell_type": "code",
   "execution_count": 15,
   "metadata": {
    "id": "5NogrYL0xqV1"
   },
   "outputs": [],
   "source": [
    "from nltk.stem import WordNetLemmatizer\n",
    "lemmatizer= WordNetLemmatizer()"
   ]
  },
  {
   "cell_type": "code",
   "execution_count": 14,
   "metadata": {
    "id": "b0URR2KjyGqt"
   },
   "outputs": [],
   "source": [
    "from nltk.corpus import wordnet\n",
    "def get_simple_pos(tag):\n",
    "    if tag.startswith(\"J\"):\n",
    "        return wordnet.ADJ\n",
    "    elif tag.startswith(\"V\"):\n",
    "        return wordnet.VERB\n",
    "    elif tag.startswith(\"N\"):\n",
    "        return wordnet.NOUN\n",
    "    elif tag.startswith(\"R\"):\n",
    "        return wordnet.ADV\n",
    "    else:\n",
    "        return wordnet.NOUN"
   ]
  },
  {
   "cell_type": "markdown",
   "metadata": {
    "id": "1wjawKXcydUK"
   },
   "source": [
    "import nltk\n",
    "\n",
    "nltk.download('averaged_perceptron_tagger')"
   ]
  },
  {
   "cell_type": "code",
   "execution_count": 16,
   "metadata": {
    "colab": {
     "base_uri": "https://localhost:8080/"
    },
    "id": "6mmdRVkh0LH-",
    "outputId": "5ac3edd9-8870-4628-f4ac-767415f04b20"
   },
   "outputs": [
    {
     "data": {
      "text/plain": [
       "[('better', 'RBR'), ('bitter', 'NN'), ('butter', 'NN')]"
      ]
     },
     "execution_count": 16,
     "metadata": {},
     "output_type": "execute_result"
    }
   ],
   "source": [
    "from nltk import pos_tag\n",
    "w=['better','bitter','butter']\n",
    "pos_tag(w)"
   ]
  },
  {
   "cell_type": "code",
   "execution_count": 17,
   "metadata": {
    "id": "q7V53vtG0EMa"
   },
   "outputs": [],
   "source": [
    "from nltk.corpus import stopwords\n",
    "stop=stopwords.words(\"english\")\n",
    "import string \n",
    "punctuations = list(string.punctuation)\n",
    "stop=stop + punctuations"
   ]
  },
  {
   "cell_type": "code",
   "execution_count": 18,
   "metadata": {
    "id": "6CDkVlqz0TlJ"
   },
   "outputs": [],
   "source": [
    "def clean_review(words):\n",
    "    output_words = []\n",
    "    for w in words:\n",
    "        if w.lower() not in stop :\n",
    "            pos = pos_tag(w)\n",
    "            clean_words=lemmatizer.lemmatize(w,pos= get_simple_pos(pos[0][1]))#[0]will give tuple #[1] will be noun\n",
    "            output_words.append(clean_words.lower())\n",
    "    return output_words"
   ]
  },
  {
   "cell_type": "markdown",
   "metadata": {
    "id": "gDKDhBS40_LG"
   },
   "source": [
    "import nltk\n",
    "\n",
    "nltk.download('wordnet')"
   ]
  },
  {
   "cell_type": "code",
   "execution_count": 19,
   "metadata": {
    "colab": {
     "base_uri": "https://localhost:8080/"
    },
    "id": "FzhvtgSb-T9U",
    "outputId": "f02db5a0-3fa6-489c-b91d-2c362c82ee76"
   },
   "outputs": [
    {
     "data": {
      "text/plain": [
       "(['Cable',\n",
       "  'has',\n",
       "  'a',\n",
       "  'strong',\n",
       "  'clip',\n",
       "  'on',\n",
       "  'the',\n",
       "  'microusb',\n",
       "  'end.',\n",
       "  'It',\n",
       "  'stays',\n",
       "  'plugged',\n",
       "  'in.',\n",
       "  'I',\n",
       "  'use',\n",
       "  'it',\n",
       "  'in',\n",
       "  'my',\n",
       "  'vehicle',\n",
       "  'because',\n",
       "  'the',\n",
       "  'cord',\n",
       "  'is',\n",
       "  'not',\n",
       "  'to',\n",
       "  'long.'],\n",
       " 'pos')"
      ]
     },
     "execution_count": 19,
     "metadata": {},
     "output_type": "execute_result"
    }
   ],
   "source": [
    "x=li[:40000]\n",
    "x[0]"
   ]
  },
  {
   "cell_type": "code",
   "execution_count": 20,
   "metadata": {
    "id": "Nfj77ZUt0ps7"
   },
   "outputs": [
    {
     "data": {
      "text/plain": [
       "40000"
      ]
     },
     "execution_count": 20,
     "metadata": {},
     "output_type": "execute_result"
    }
   ],
   "source": [
    "review_clean=[(clean_review(review),category) for review,category in x]\n",
    "#if take too long for now we will use x which is x=li[:5000]\n",
    "len(review_clean)"
   ]
  },
  {
   "cell_type": "markdown",
   "metadata": {
    "id": "c-QHGN2H_Lw_"
   },
   "source": [
    "  We faced a serious challenge in this part as our pc's compution power was less we cant simiply go on reading 7000k review so to save our progress we came up with a idea to save our progress using **CSV** libary.\n",
    "  \n",
    "  \n",
    "  w- stands for **writing **\n",
    "\n",
    "  saved as **['clean_review','emotion']**"
   ]
  },
  {
   "cell_type": "code",
   "execution_count": 28,
   "metadata": {
    "id": "uj2vAkK55DRq"
   },
   "outputs": [],
   "source": [
    "import csv\n",
    "data=review_clean\n",
    "with open('review_clean_countvectorize.csv','w') as out:\n",
    "    csv_out=csv.writer(out)\n",
    "    csv_out.writerow(['clean_review','emotion'])\n",
    "    for row in data:\n",
    "        csv_out.writerow(row)"
   ]
  },
  {
   "cell_type": "code",
   "execution_count": 29,
   "metadata": {},
   "outputs": [],
   "source": [
    "from sklearn.feature_extraction.text import CountVectorizer"
   ]
  },
  {
   "cell_type": "code",
   "execution_count": 30,
   "metadata": {},
   "outputs": [],
   "source": [
    "categories=[category for document,category in review_clean]"
   ]
  },
  {
   "cell_type": "code",
   "execution_count": 31,
   "metadata": {},
   "outputs": [],
   "source": [
    "text_reviews=[\" \".join(review) for review ,category in review_clean]"
   ]
  },
  {
   "cell_type": "code",
   "execution_count": 32,
   "metadata": {},
   "outputs": [
    {
     "data": {
      "text/plain": [
       "('really want like product. price great item add virtually bulk iphone time protecting it. biggest flaw revealed shortly installing product. tpu tends bend screen protector position, expensive screen protector pose problem. second issue ear phone port accomodate radio auxillary cord since cut way small.',\n",
       " 'neg')"
      ]
     },
     "execution_count": 32,
     "metadata": {},
     "output_type": "execute_result"
    }
   ],
   "source": [
    "text_reviews[1],categories[1]"
   ]
  },
  {
   "cell_type": "code",
   "execution_count": 84,
   "metadata": {},
   "outputs": [],
   "source": [
    "from sklearn.model_selection import train_test_split"
   ]
  },
  {
   "cell_type": "code",
   "execution_count": 34,
   "metadata": {},
   "outputs": [],
   "source": [
    "x_train,x_test,y_train,y_test = train_test_split(text_reviews,categories)"
   ]
  },
  {
   "cell_type": "code",
   "execution_count": 35,
   "metadata": {},
   "outputs": [
    {
     "data": {
      "text/plain": [
       "matrix([[0, 0, 0, ..., 0, 0, 0],\n",
       "        [0, 0, 0, ..., 0, 0, 0],\n",
       "        [0, 0, 0, ..., 0, 0, 0],\n",
       "        ...,\n",
       "        [0, 0, 0, ..., 0, 0, 0],\n",
       "        [0, 0, 0, ..., 0, 0, 0],\n",
       "        [0, 0, 0, ..., 0, 0, 0]], dtype=int64)"
      ]
     },
     "execution_count": 35,
     "metadata": {},
     "output_type": "execute_result"
    }
   ],
   "source": [
    "count_vec= CountVectorizer(max_features=3000)\n",
    "x_train_features= count_vec.fit_transform(x_train)\n",
    "x_train_features.todense()"
   ]
  },
  {
   "cell_type": "code",
   "execution_count": 93,
   "metadata": {},
   "outputs": [],
   "source": [
    "import pickle\n",
    "with open('count_vec_(unigram)_model','wb') as f:\n",
    "    pickle.dump(count_vec,f)"
   ]
  },
  {
   "cell_type": "code",
   "execution_count": 36,
   "metadata": {},
   "outputs": [
    {
     "data": {
      "text/plain": [
       "matrix([[0, 0, 0, ..., 0, 0, 0],\n",
       "        [0, 0, 0, ..., 0, 0, 0],\n",
       "        [0, 0, 0, ..., 0, 0, 0],\n",
       "        ...,\n",
       "        [0, 0, 0, ..., 0, 0, 0],\n",
       "        [0, 0, 0, ..., 0, 0, 0],\n",
       "        [0, 0, 0, ..., 0, 0, 0]], dtype=int64)"
      ]
     },
     "execution_count": 36,
     "metadata": {},
     "output_type": "execute_result"
    }
   ],
   "source": [
    "count_vec_bigram= CountVectorizer(max_features=6000, ngram_range=(1,2))\n",
    "x_train_features_bigram=count_vec_bigram.fit_transform(x_train)\n",
    "x_train_features_bigram.todense()"
   ]
  },
  {
   "cell_type": "code",
   "execution_count": 94,
   "metadata": {},
   "outputs": [],
   "source": [
    "import pickle\n",
    "with open('count_vec_(bigram)_model','wb') as f:\n",
    "    pickle.dump(count_vec_bigram,f)"
   ]
  },
  {
   "cell_type": "code",
   "execution_count": 91,
   "metadata": {},
   "outputs": [],
   "source": [
    "x=count_vec.get_feature_names()\n",
    "with open('sample words unigram.txt', 'w') as filehandle:\n",
    "    for listitem in x:\n",
    "        filehandle.write('%s\\n' % listitem)"
   ]
  },
  {
   "cell_type": "code",
   "execution_count": 92,
   "metadata": {
    "scrolled": false
   },
   "outputs": [],
   "source": [
    "y=count_vec_bigram.get_feature_names()\n",
    "with open('sample words bigram.txt', 'w') as filehandle:\n",
    "    for listitem in y:\n",
    "        filehandle.write('%s\\n' % listitem)"
   ]
  },
  {
   "cell_type": "code",
   "execution_count": 41,
   "metadata": {},
   "outputs": [],
   "source": [
    "x_test_features=count_vec.transform(x_test)\n",
    "x_test_features_bigram=count_vec_bigram.transform(x_test)"
   ]
  },
  {
   "cell_type": "code",
   "execution_count": 42,
   "metadata": {},
   "outputs": [
    {
     "data": {
      "text/plain": [
       "(<10000x3000 sparse matrix of type '<class 'numpy.int64'>'\n",
       " \twith 149751 stored elements in Compressed Sparse Row format>,\n",
       " <10000x6000 sparse matrix of type '<class 'numpy.int64'>'\n",
       " \twith 189914 stored elements in Compressed Sparse Row format>)"
      ]
     },
     "execution_count": 42,
     "metadata": {},
     "output_type": "execute_result"
    }
   ],
   "source": [
    "x_test_features,x_test_features_bigram"
   ]
  },
  {
   "cell_type": "code",
   "execution_count": 43,
   "metadata": {},
   "outputs": [],
   "source": [
    "from sklearn.svm import SVC"
   ]
  },
  {
   "cell_type": "code",
   "execution_count": 44,
   "metadata": {},
   "outputs": [],
   "source": [
    "from sklearn.metrics import confusion_matrix"
   ]
  },
  {
   "cell_type": "code",
   "execution_count": 45,
   "metadata": {},
   "outputs": [],
   "source": [
    "from sklearn.metrics import classification_report"
   ]
  },
  {
   "cell_type": "code",
   "execution_count": 46,
   "metadata": {},
   "outputs": [
    {
     "data": {
      "text/plain": [
       "SVC()"
      ]
     },
     "execution_count": 46,
     "metadata": {},
     "output_type": "execute_result"
    }
   ],
   "source": [
    "svc = SVC()\n",
    "svc.fit(x_train_features,y_train)"
   ]
  },
  {
   "cell_type": "code",
   "execution_count": 47,
   "metadata": {},
   "outputs": [
    {
     "data": {
      "text/plain": [
       "0.8549"
      ]
     },
     "execution_count": 47,
     "metadata": {},
     "output_type": "execute_result"
    }
   ],
   "source": [
    "svc.score(x_test_features,y_test)"
   ]
  },
  {
   "cell_type": "code",
   "execution_count": 48,
   "metadata": {},
   "outputs": [
    {
     "data": {
      "text/plain": [
       "array([[1258, 1188],\n",
       "       [ 263, 7291]], dtype=int64)"
      ]
     },
     "execution_count": 48,
     "metadata": {},
     "output_type": "execute_result"
    }
   ],
   "source": [
    "y_pred_uni=svc.predict(x_test_features)\n",
    "cm=confusion_matrix(y_test,y_pred_uni)\n",
    "cm"
   ]
  },
  {
   "cell_type": "code",
   "execution_count": 49,
   "metadata": {},
   "outputs": [
    {
     "data": {
      "text/plain": [
       "Text(69.0, 0.5, 'Truth')"
      ]
     },
     "execution_count": 49,
     "metadata": {},
     "output_type": "execute_result"
    },
    {
     "data": {
      "image/png": "[encoded data removed]",
      "text/plain": [
       "<Figure size 720x504 with 2 Axes>"
      ]
     },
     "metadata": {
      "needs_background": "light"
     },
     "output_type": "display_data"
    }
   ],
   "source": [
    "import matplotlib.pyplot as plt\n",
    "import seaborn as sn\n",
    "plt.figure(figsize=(10,7))\n",
    "sn.heatmap(cm,annot=True)\n",
    "plt.xlabel(\"Predicted\")\n",
    "plt.ylabel(\"Truth\")"
   ]
  },
  {
   "cell_type": "code",
   "execution_count": 50,
   "metadata": {},
   "outputs": [
    {
     "name": "stdout",
     "output_type": "stream",
     "text": [
      "              precision    recall  f1-score   support\n",
      "\n",
      "         neg       0.83      0.51      0.63      2446\n",
      "         pos       0.86      0.97      0.91      7554\n",
      "\n",
      "    accuracy                           0.85     10000\n",
      "   macro avg       0.84      0.74      0.77     10000\n",
      "weighted avg       0.85      0.85      0.84     10000\n",
      "\n"
     ]
    }
   ],
   "source": [
    "print(classification_report(y_test,y_pred_uni))"
   ]
  },
  {
   "cell_type": "code",
   "execution_count": 71,
   "metadata": {},
   "outputs": [],
   "source": [
    "def predict_uni_trans(Review):\n",
    "    words=Review.split()\n",
    "    clean_words=clean_review(words)\n",
    "    x_paragraph=[\" \".join(clean_words)]\n",
    "    #print(x_paragraph)\n",
    "    x=count_vec.transform(x_paragraph)\n",
    "    #print(x)\n",
    "    return x"
   ]
  },
  {
   "cell_type": "code",
   "execution_count": 73,
   "metadata": {},
   "outputs": [
    {
     "name": "stdout",
     "output_type": "stream",
     "text": [
      "Review: I am really happy with the awesome product quality it works really well\n",
      "['pos']\n"
     ]
    }
   ],
   "source": [
    "# Review = input(\"Review: \")\n",
    "# #print(predict(Review))\n",
    "# print(svc.predict(predict_uni_trans(Review)))\n",
    "# #I am really happy with the awesome product quality it works really well"
   ]
  },
  {
   "cell_type": "code",
   "execution_count": 51,
   "metadata": {},
   "outputs": [
    {
     "data": {
      "text/plain": [
       "SVC()"
      ]
     },
     "execution_count": 51,
     "metadata": {},
     "output_type": "execute_result"
    }
   ],
   "source": [
    "svc_bigram= SVC()\n",
    "svc_bigram.fit(x_train_features_bigram,y_train)"
   ]
  },
  {
   "cell_type": "code",
   "execution_count": 52,
   "metadata": {},
   "outputs": [
    {
     "data": {
      "text/plain": [
       "0.8593"
      ]
     },
     "execution_count": 52,
     "metadata": {},
     "output_type": "execute_result"
    }
   ],
   "source": [
    "svc_bigram.score(x_test_features_bigram,y_test)"
   ]
  },
  {
   "cell_type": "code",
   "execution_count": 53,
   "metadata": {},
   "outputs": [
    {
     "data": {
      "text/plain": [
       "array([[1296, 1150],\n",
       "       [ 257, 7297]], dtype=int64)"
      ]
     },
     "execution_count": 53,
     "metadata": {},
     "output_type": "execute_result"
    }
   ],
   "source": [
    "y_pred_bi=svc_bigram.predict(x_test_features_bigram)\n",
    "cm_bi=confusion_matrix(y_test,y_pred_bi)\n",
    "cm_bi"
   ]
  },
  {
   "cell_type": "code",
   "execution_count": 54,
   "metadata": {},
   "outputs": [
    {
     "data": {
      "text/plain": [
       "Text(33.0, 0.5, 'Truth')"
      ]
     },
     "execution_count": 54,
     "metadata": {},
     "output_type": "execute_result"
    },
    {
     "data": {
      "image/png": "[encoded data removed]",
      "text/plain": [
       "<Figure size 432x288 with 2 Axes>"
      ]
     },
     "metadata": {
      "needs_background": "light"
     },
     "output_type": "display_data"
    }
   ],
   "source": [
    "sn.heatmap(cm_bi,annot=True)\n",
    "plt.xlabel(\"Predicted\")\n",
    "plt.ylabel(\"Truth\")"
   ]
  },
  {
   "cell_type": "code",
   "execution_count": 55,
   "metadata": {},
   "outputs": [
    {
     "name": "stdout",
     "output_type": "stream",
     "text": [
      "              precision    recall  f1-score   support\n",
      "\n",
      "         neg       0.83      0.53      0.65      2446\n",
      "         pos       0.86      0.97      0.91      7554\n",
      "\n",
      "    accuracy                           0.86     10000\n",
      "   macro avg       0.85      0.75      0.78     10000\n",
      "weighted avg       0.86      0.86      0.85     10000\n",
      "\n"
     ]
    }
   ],
   "source": [
    "print(classification_report(y_test,y_pred_bi))"
   ]
  },
  {
   "cell_type": "code",
   "execution_count": 82,
   "metadata": {},
   "outputs": [],
   "source": [
    "def predict_bi_trans(Review):\n",
    "    words=Review.split()\n",
    "    clean_words=clean_review(words)\n",
    "    x_paragraph=[\" \".join(clean_words)]\n",
    "    #print(x_paragraph)\n",
    "    x=count_vec_bigram.transform(x_paragraph)\n",
    "    #print(x)\n",
    "    return x"
   ]
  },
  {
   "cell_type": "code",
   "execution_count": 83,
   "metadata": {},
   "outputs": [
    {
     "name": "stdout",
     "output_type": "stream",
     "text": [
      "Review: I am really happy with the awesome product quality it works really well\n",
      "['pos']\n"
     ]
    }
   ],
   "source": [
    "# Review = input(\"Review: \")\n",
    "# #print(predict(Review))\n",
    "# print(svc_bigram.predict(predict_bi_trans(Review)))\n",
    "# #I am really happy with the awesome product quality it works really well"
   ]
  },
  {
   "cell_type": "code",
   "execution_count": 95,
   "metadata": {},
   "outputs": [],
   "source": [
    "import pickle\n",
    "with open('SVC_countvectorize_85.93_(bigram)_model','wb') as f:\n",
    "    pickle.dump(svc_bigram,f)"
   ]
  },
  {
   "cell_type": "code",
   "execution_count": 96,
   "metadata": {},
   "outputs": [],
   "source": [
    "import pickle\n",
    "with open('SVC_countvectorize_85.49_(unigram)_model','wb') as f:\n",
    "    pickle.dump(svc,f)"
   ]
  }
 ],
 "metadata": {
  "accelerator": "GPU",
  "colab": {
   "collapsed_sections": [],
   "name": "Amazon_review_Collab.ipynb",
   "provenance": []
  },
  "kernelspec": {
   "display_name": "Python 3",
   "language": "python",
   "name": "python3"
  },
  "language_info": {
   "codemirror_mode": {
    "name": "ipython",
    "version": 3
   },
   "file_extension": ".py",
   "mimetype": "text/x-python",
   "name": "python",
   "nbconvert_exporter": "python",
   "pygments_lexer": "ipython3",
   "version": "3.8.3"
  }
 },
 "nbformat": 4,
 "nbformat_minor": 1
}
